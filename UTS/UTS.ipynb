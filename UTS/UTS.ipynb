{
 "cells": [
  {
   "cell_type": "markdown",
   "metadata": {},
   "source": [
    "# Moch Reza Gy - 221011401376 - 05TPLE016"
   ]
  },
  {
   "cell_type": "code",
   "execution_count": 17,
   "metadata": {},
   "outputs": [],
   "source": [
    "\n",
    "# Data\n",
    "\n",
    "company_detail_list = [\n",
    "      {\n",
    "          'name': 'Company 1',\n",
    "          'domain': 'Retail',\n",
    "          'country': 'United States'\n",
    "      },\n",
    "      {\n",
    "          'name': 'Company 2',\n",
    "          'domain': 'Technology',\n",
    "          'country': 'United Kingdom'\n",
    "      },\n",
    "      {\n",
    "          'name': 'Company 3',\n",
    "          'domain': 'Healthcare',\n",
    "          'country': 'United States'\n",
    "      }\n",
    "  ]\n",
    "\n",
    "employee_detail_list = [\n",
    "     {\n",
    "          'name': 'EMP-0001',\n",
    "          'first_name': 'John',\n",
    "          'last_name': 'Doe',\n",
    "          'full_name': 'John Doe',\n",
    "          'company': 'Company 1',\n",
    "          'nationality': 'Australia'\n",
    "      },\n",
    "      {\n",
    "          'name': 'EMP-0002',\n",
    "          'first_name': 'Tom',\n",
    "          'last_name': 'Smith',\n",
    "          'full_name': 'Tom Smith',\n",
    "          'company': 'Company 2',\n",
    "          'nationality': 'United States'\n",
    "      },\n",
    "      {\n",
    "          'name': 'EMP-0003',\n",
    "          'first_name': 'Andrew',\n",
    "          'last_name': 'Sebastian',\n",
    "          'full_name': 'Andrew Sebastian',\n",
    "          'company': 'Company 3',\n",
    "          'nationality': 'United States'\n",
    "      },\n",
    "      {\n",
    "          'name': 'EMP-0005',\n",
    "          'first_name': 'Ying Han',\n",
    "          'last_name': 'Tan',\n",
    "          'full_name': 'Ying Han Tan',\n",
    "          'company': 'Company 1',\n",
    "          'nationality': 'Australia'\n",
    "      },\n",
    "      {\n",
    "          'name': 'EMP-0015',\n",
    "          'first_name': 'Kenneth',\n",
    "          'last_name': 'Ng',\n",
    "          'full_name': 'Kenneth Ng',\n",
    "          'company': 'Company 3',\n",
    "          'nationality': 'United States'\n",
    "      },\n",
    "      {\n",
    "          'name': 'EMP-0018',\n",
    "          'first_name': 'Rubby',\n",
    "          'last_name': 'Lee',\n",
    "          'full_name': 'Rubby Lee',\n",
    "          'company': 'Company 2',\n",
    "          'nationality': 'Hong Kong'\n",
    "      },\n",
    "     {\n",
    "          'name': 'EMP-0017',\n",
    "          'first_name': 'Robert',\n",
    "          'last_name': 'White',\n",
    "          'full_name': 'Robert White',\n",
    "          'company': 'Company 1',\n",
    "          'nationality': 'United Kingdom'\n",
    "      }\n",
    "  ]\n",
    "\n"
   ]
  },
  {
   "cell_type": "code",
   "execution_count": 4,
   "metadata": {},
   "outputs": [
    {
     "data": {
      "text/plain": [
       "[{'name': 'Company 3'}, {'name': 'Company 2'}, {'name': 'Company 1'}]"
      ]
     },
     "execution_count": 4,
     "metadata": {},
     "output_type": "execute_result"
    }
   ],
   "source": [
    "#1 : get the list of all Companies and sort by Company Name in reverse order\n",
    "\n",
    "sorted_companies = sorted([{'name': company['name']} for company in company_detail_list], key=lambda x: x['name'], reverse=True)\n",
    "sorted_companies"
   ]
  },
  {
   "cell_type": "code",
   "execution_count": 18,
   "metadata": {},
   "outputs": [
    {
     "name": "stdout",
     "output_type": "stream",
     "text": [
      "Company 1: Retail (United States)\n",
      "Company 2: Technology (United Kingdom)\n",
      "Company 3: Healthcare (United States)\n"
     ]
    }
   ],
   "source": [
    "#2 : Print all Domain value in every company using print statement\n",
    "\n",
    "for company in company_detail_list:\n",
    "    print(f\"{company['name']}: {company['domain']} ({company['country']})\")"
   ]
  },
  {
   "cell_type": "code",
   "execution_count": 21,
   "metadata": {},
   "outputs": [
    {
     "data": {
      "text/plain": [
       "{'Retail': ['John Doe', 'Ying Han Tan', 'Robert White'],\n",
       " 'Technology': ['Tom Smith', 'Rubby Lee'],\n",
       " 'Healthcare': ['Andrew Sebastian', 'Kenneth Ng']}"
      ]
     },
     "execution_count": 21,
     "metadata": {},
     "output_type": "execute_result"
    }
   ],
   "source": [
    "#3 : List all Employees work By company domain\n",
    "\n",
    "domain_employee_map = {}\n",
    "for company in company_detail_list:\n",
    "    employees = [emp['full_name'] for emp in employee_detail_list if emp['company'] == company['name']]\n",
    "    domain_employee_map[company['domain']] = employees\n",
    "domain_employee_map\n"
   ]
  },
  {
   "cell_type": "code",
   "execution_count": 27,
   "metadata": {},
   "outputs": [
    {
     "data": {
      "text/plain": [
       "[{'full_name': 'John Doe', 'company': 'Company 1', 'country': 'United States'},\n",
       " {'full_name': 'Tom Smith',\n",
       "  'company': 'Company 2',\n",
       "  'country': 'United Kingdom'},\n",
       " {'full_name': 'Andrew Sebastian',\n",
       "  'company': 'Company 3',\n",
       "  'country': 'United States'},\n",
       " {'full_name': 'Ying Han Tan',\n",
       "  'company': 'Company 1',\n",
       "  'country': 'United States'},\n",
       " {'full_name': 'Kenneth Ng',\n",
       "  'company': 'Company 3',\n",
       "  'country': 'United States'},\n",
       " {'full_name': 'Rubby Lee',\n",
       "  'company': 'Company 2',\n",
       "  'country': 'United Kingdom'},\n",
       " {'full_name': 'Robert White',\n",
       "  'company': 'Company 1',\n",
       "  'country': 'United States'}]"
      ]
     },
     "execution_count": 27,
     "metadata": {},
     "output_type": "execute_result"
    }
   ],
   "source": [
    "#4 : Create a function that return employees with it's company country\n",
    "\n",
    "employees_with_country = [\n",
    "    {\n",
    "        'full_name': emp['full_name'],\n",
    "        'company': emp['company'],\n",
    "        'country': next(comp['country'] for comp in company_detail_list if comp['name'] == emp['company'])\n",
    "    }\n",
    "    for emp in employee_detail_list\n",
    "]\n",
    "employees_with_country\n"
   ]
  },
  {
   "cell_type": "code",
   "execution_count": 28,
   "metadata": {},
   "outputs": [
    {
     "data": {
      "text/plain": [
       "[{'company': 'Company 1',\n",
       "  'employee_nationality': {'Australia': 2, 'United Kingdom': 1}},\n",
       " {'company': 'Company 2',\n",
       "  'employee_nationality': {'United States': 1, 'Hong Kong': 1}},\n",
       " {'company': 'Company 3', 'employee_nationality': {'United States': 2}}]"
      ]
     },
     "execution_count": 28,
     "metadata": {},
     "output_type": "execute_result"
    }
   ],
   "source": [
    "#5 : Create a function that return companies with a number of employees nationality that are working in the company\n",
    "\n",
    "company_nationality_map = []\n",
    "for company in company_detail_list:\n",
    "    nationality_count = {}\n",
    "    employees = [emp for emp in employee_detail_list if emp['company'] == company['name']]\n",
    "    for emp in employees:\n",
    "        nationality = emp['nationality']\n",
    "        nationality_count[nationality] = nationality_count.get(nationality, 0) + 1\n",
    "    company_nationality_map.append({\n",
    "        'company': company['name'],\n",
    "        'employee_nationality': nationality_count\n",
    "    })\n",
    "company_nationality_map"
   ]
  }
 ],
 "metadata": {
  "kernelspec": {
   "display_name": "Python 3",
   "language": "python",
   "name": "python3"
  },
  "language_info": {
   "codemirror_mode": {
    "name": "ipython",
    "version": 3
   },
   "file_extension": ".py",
   "mimetype": "text/x-python",
   "name": "python",
   "nbconvert_exporter": "python",
   "pygments_lexer": "ipython3",
   "version": "3.11.0"
  }
 },
 "nbformat": 4,
 "nbformat_minor": 2
}
